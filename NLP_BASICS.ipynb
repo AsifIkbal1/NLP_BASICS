{
 "cells": [
  {
   "cell_type": "code",
   "execution_count": 42,
   "metadata": {},
   "outputs": [],
   "source": [
    "import nltk \n",
    "from nltk import sent_tokenize\n",
    "from nltk import word_tokenize"
   ]
  },
  {
   "cell_type": "code",
   "execution_count": 43,
   "metadata": {},
   "outputs": [],
   "source": [
    "raw_data = open('../Work/New_Text_Document2.txt') #load data"
   ]
  },
  {
   "cell_type": "code",
   "execution_count": 44,
   "metadata": {},
   "outputs": [],
   "source": [
    "text = raw_data.read()"
   ]
  },
  {
   "cell_type": "code",
   "execution_count": 45,
   "metadata": {},
   "outputs": [
    {
     "name": "stdout",
     "output_type": "stream",
     "text": [
      "<class 'str'>\n"
     ]
    }
   ],
   "source": [
    "print(type(text))"
   ]
  },
  {
   "cell_type": "code",
   "execution_count": 46,
   "metadata": {},
   "outputs": [
    {
     "name": "stdout",
     "output_type": "stream",
     "text": [
      "These two chapters discussed about the use of supervised learning and linear models in the field of deep\n",
      "learning. In supervised learning we use the labeled data to classify our dataset. For example we can\n",
      "detect the spam and not spam email by using this learning techniques. We can create a linear function\n",
      "to input and output the data or a decision tree over the variables. It is based on a hypothesis class which\n",
      "determined what type of data can or cannot be represented by the learner. Hypothesis class of that\n",
      "function can be restricted since it is limited to linear relations. So we can overcome this restriction by\n",
      "using the feed-forward neural networks with hidden layers. It has a strong hypothesis class. To measure\n",
      "the accuracy of our model we need to train our data and compare it with the output label. To get a better\n",
      "accuracy each time we train every single data and evaluating the resulting function. This process is very\n",
      "costly in terms of computation time. We can use this method when our data items is less than\n"
     ]
    }
   ],
   "source": [
    "print(text)"
   ]
  },
  {
   "cell_type": "code",
   "execution_count": 47,
   "metadata": {},
   "outputs": [
    {
     "name": "stdout",
     "output_type": "stream",
     "text": [
      "1030\n"
     ]
    }
   ],
   "source": [
    "print(len(text))"
   ]
  },
  {
   "cell_type": "code",
   "execution_count": 50,
   "metadata": {},
   "outputs": [
    {
     "name": "stdout",
     "output_type": "stream",
     "text": [
      "12\n"
     ]
    }
   ],
   "source": [
    "sentence=sent_tokenize(text) #protita sentence alada korlam\n",
    "print(len(sentence))"
   ]
  },
  {
   "cell_type": "code",
   "execution_count": 51,
   "metadata": {},
   "outputs": [
    {
     "name": "stdout",
     "output_type": "stream",
     "text": [
      "194\n"
     ]
    }
   ],
   "source": [
    "words=word_tokenize(text) #protita word alada korlam\n",
    "print(len(words))"
   ]
  },
  {
   "cell_type": "code",
   "execution_count": 54,
   "metadata": {},
   "outputs": [],
   "source": [
    "from nltk.probability import FreqDist"
   ]
  },
  {
   "cell_type": "code",
   "execution_count": 55,
   "metadata": {},
   "outputs": [],
   "source": [
    "frequency_dist=FreqDist(words)"
   ]
  },
  {
   "cell_type": "code",
   "execution_count": 59,
   "metadata": {},
   "outputs": [
    {
     "data": {
      "text/plain": [
       "[('the', 11),\n",
       " ('.', 11),\n",
       " ('can', 7),\n",
       " ('of', 6),\n",
       " ('data', 6),\n",
       " ('and', 5),\n",
       " ('we', 5),\n",
       " ('a', 5),\n",
       " ('learning', 4),\n",
       " ('to', 4),\n",
       " ('our', 4),\n",
       " ('is', 4),\n",
       " ('use', 3),\n",
       " ('linear', 3),\n",
       " ('by', 3),\n",
       " ('this', 3),\n",
       " ('function', 3),\n",
       " ('class', 3),\n",
       " ('supervised', 2),\n",
       " ('in', 2),\n",
       " ('spam', 2),\n",
       " ('not', 2),\n",
       " ('using', 2),\n",
       " ('We', 2),\n",
       " ('output', 2),\n",
       " ('or', 2),\n",
       " ('It', 2),\n",
       " ('hypothesis', 2),\n",
       " ('be', 2),\n",
       " ('it', 2),\n",
       " ('with', 2),\n",
       " ('To', 2),\n",
       " ('accuracy', 2),\n",
       " ('train', 2),\n",
       " ('time', 2),\n",
       " ('These', 1),\n",
       " ('two', 1),\n",
       " ('chapters', 1),\n",
       " ('discussed', 1),\n",
       " ('about', 1),\n",
       " ('models', 1),\n",
       " ('field', 1),\n",
       " ('deep', 1),\n",
       " ('In', 1),\n",
       " ('labeled', 1),\n",
       " ('classify', 1),\n",
       " ('dataset', 1),\n",
       " ('For', 1),\n",
       " ('example', 1),\n",
       " ('detect', 1),\n",
       " ('email', 1),\n",
       " ('techniques', 1),\n",
       " ('create', 1),\n",
       " ('input', 1),\n",
       " ('decision', 1),\n",
       " ('tree', 1),\n",
       " ('over', 1),\n",
       " ('variables', 1),\n",
       " ('based', 1),\n",
       " ('on', 1),\n",
       " ('which', 1),\n",
       " ('determined', 1),\n",
       " ('what', 1),\n",
       " ('type', 1),\n",
       " ('represented', 1),\n",
       " ('learner', 1),\n",
       " ('Hypothesis', 1),\n",
       " ('that', 1),\n",
       " ('restricted', 1),\n",
       " ('since', 1),\n",
       " ('limited', 1),\n",
       " ('relations', 1),\n",
       " ('So', 1),\n",
       " ('overcome', 1),\n",
       " ('restriction', 1),\n",
       " ('feed-forward', 1),\n",
       " ('neural', 1),\n",
       " ('networks', 1),\n",
       " ('hidden', 1),\n",
       " ('layers', 1),\n",
       " ('has', 1),\n",
       " ('strong', 1),\n",
       " ('measure', 1),\n",
       " ('model', 1),\n",
       " ('need', 1),\n",
       " ('compare', 1),\n",
       " ('label', 1),\n",
       " ('get', 1),\n",
       " ('better', 1),\n",
       " ('each', 1),\n",
       " ('every', 1),\n",
       " ('single', 1),\n",
       " ('evaluating', 1),\n",
       " ('resulting', 1),\n",
       " ('This', 1),\n",
       " ('process', 1),\n",
       " ('very', 1),\n",
       " ('costly', 1),\n",
       " ('terms', 1),\n",
       " ('computation', 1)]"
      ]
     },
     "execution_count": 59,
     "metadata": {},
     "output_type": "execute_result"
    }
   ],
   "source": [
    "frequency_dist.most_common(100) #sob cheye besi word ,bro theke choto"
   ]
  },
  {
   "cell_type": "code",
   "execution_count": 60,
   "metadata": {},
   "outputs": [],
   "source": [
    "import matplotlib.pyplot as plt"
   ]
  },
  {
   "cell_type": "code",
   "execution_count": 61,
   "metadata": {},
   "outputs": [
    {
     "data": {
      "image/png": "[encoded data removed]",
      "text/plain": [
       "<Figure size 432x288 with 1 Axes>"
      ]
     },
     "metadata": {
      "needs_background": "light"
     },
     "output_type": "display_data"
    },
    {
     "data": {
      "text/plain": [
       "<matplotlib.axes._subplots.AxesSubplot at 0x227d20f2748>"
      ]
     },
     "execution_count": 61,
     "metadata": {},
     "output_type": "execute_result"
    }
   ],
   "source": [
    "frequency_dist.plot(20)"
   ]
  },
  {
   "cell_type": "code",
   "execution_count": 71,
   "metadata": {},
   "outputs": [],
   "source": [
    "words_punc=[]\n",
    "for i in words:\n",
    "    if i.isalpha():\n",
    "        words_punc.append(i.lower())"
   ]
  },
  {
   "cell_type": "code",
   "execution_count": 72,
   "metadata": {},
   "outputs": [
    {
     "name": "stdout",
     "output_type": "stream",
     "text": [
      "['these', 'two', 'chapters', 'discussed', 'about', 'the', 'use', 'of', 'supervised', 'learning', 'and', 'linear', 'models', 'in', 'the', 'field', 'of', 'deep', 'learning', 'in', 'supervised', 'learning', 'we', 'use', 'the', 'labeled', 'data', 'to', 'classify', 'our', 'dataset', 'for', 'example', 'we', 'can', 'detect', 'the', 'spam', 'and', 'not', 'spam', 'email', 'by', 'using', 'this', 'learning', 'techniques', 'we', 'can', 'create', 'a', 'linear', 'function', 'to', 'input', 'and', 'output', 'the', 'data', 'or', 'a', 'decision', 'tree', 'over', 'the', 'variables', 'it', 'is', 'based', 'on', 'a', 'hypothesis', 'class', 'which', 'determined', 'what', 'type', 'of', 'data', 'can', 'or', 'can', 'not', 'be', 'represented', 'by', 'the', 'learner', 'hypothesis', 'class', 'of', 'that', 'function', 'can', 'be', 'restricted', 'since', 'it', 'is', 'limited', 'to', 'linear', 'relations', 'so', 'we', 'can', 'overcome', 'this', 'restriction', 'by', 'using', 'the', 'neural', 'networks', 'with', 'hidden', 'layers', 'it', 'has', 'a', 'strong', 'hypothesis', 'class', 'to', 'measure', 'the', 'accuracy', 'of', 'our', 'model', 'we', 'need', 'to', 'train', 'our', 'data', 'and', 'compare', 'it', 'with', 'the', 'output', 'label', 'to', 'get', 'a', 'better', 'accuracy', 'each', 'time', 'we', 'train', 'every', 'single', 'data', 'and', 'evaluating', 'the', 'resulting', 'function', 'this', 'process', 'is', 'very', 'costly', 'in', 'terms', 'of', 'computation', 'time', 'we', 'can', 'use', 'this', 'method', 'when', 'our', 'data', 'items', 'is', 'less', 'than']\n"
     ]
    }
   ],
   "source": [
    "print(words_punc) #all small letters"
   ]
  },
  {
   "cell_type": "code",
   "execution_count": 77,
   "metadata": {},
   "outputs": [
    {
     "data": {
      "text/plain": [
       "[('the', 11),\n",
       " ('we', 7),\n",
       " ('can', 7),\n",
       " ('of', 6),\n",
       " ('data', 6),\n",
       " ('to', 6),\n",
       " ('and', 5),\n",
       " ('a', 5),\n",
       " ('learning', 4),\n",
       " ('our', 4),\n",
       " ('this', 4),\n",
       " ('it', 4),\n",
       " ('is', 4),\n",
       " ('use', 3),\n",
       " ('linear', 3),\n",
       " ('in', 3),\n",
       " ('by', 3),\n",
       " ('function', 3),\n",
       " ('hypothesis', 3),\n",
       " ('class', 3),\n",
       " ('supervised', 2),\n",
       " ('spam', 2),\n",
       " ('not', 2),\n",
       " ('using', 2),\n",
       " ('output', 2),\n",
       " ('or', 2),\n",
       " ('be', 2),\n",
       " ('with', 2),\n",
       " ('accuracy', 2),\n",
       " ('train', 2),\n",
       " ('time', 2),\n",
       " ('these', 1),\n",
       " ('two', 1),\n",
       " ('chapters', 1),\n",
       " ('discussed', 1),\n",
       " ('about', 1),\n",
       " ('models', 1),\n",
       " ('field', 1),\n",
       " ('deep', 1),\n",
       " ('labeled', 1),\n",
       " ('classify', 1),\n",
       " ('dataset', 1),\n",
       " ('for', 1),\n",
       " ('example', 1),\n",
       " ('detect', 1),\n",
       " ('email', 1),\n",
       " ('techniques', 1),\n",
       " ('create', 1),\n",
       " ('input', 1),\n",
       " ('decision', 1),\n",
       " ('tree', 1),\n",
       " ('over', 1),\n",
       " ('variables', 1),\n",
       " ('based', 1),\n",
       " ('on', 1),\n",
       " ('which', 1),\n",
       " ('determined', 1),\n",
       " ('what', 1),\n",
       " ('type', 1),\n",
       " ('represented', 1),\n",
       " ('learner', 1),\n",
       " ('that', 1),\n",
       " ('restricted', 1),\n",
       " ('since', 1),\n",
       " ('limited', 1),\n",
       " ('relations', 1),\n",
       " ('so', 1),\n",
       " ('overcome', 1),\n",
       " ('restriction', 1),\n",
       " ('neural', 1),\n",
       " ('networks', 1),\n",
       " ('hidden', 1),\n",
       " ('layers', 1),\n",
       " ('has', 1),\n",
       " ('strong', 1),\n",
       " ('measure', 1),\n",
       " ('model', 1),\n",
       " ('need', 1),\n",
       " ('compare', 1),\n",
       " ('label', 1),\n",
       " ('get', 1),\n",
       " ('better', 1),\n",
       " ('each', 1),\n",
       " ('every', 1),\n",
       " ('single', 1),\n",
       " ('evaluating', 1),\n",
       " ('resulting', 1),\n",
       " ('process', 1),\n",
       " ('very', 1),\n",
       " ('costly', 1),\n",
       " ('terms', 1),\n",
       " ('computation', 1),\n",
       " ('method', 1),\n",
       " ('when', 1),\n",
       " ('items', 1),\n",
       " ('less', 1),\n",
       " ('than', 1)]"
      ]
     },
     "execution_count": 77,
     "metadata": {},
     "output_type": "execute_result"
    }
   ],
   "source": [
    "frquency_dist = FreqDist(words_punc)\n",
    "frquency_dist.most_common(100)  "
   ]
  },
  {
   "cell_type": "code",
   "execution_count": 80,
   "metadata": {},
   "outputs": [
    {
     "data": {
      "image/png": "[encoded data removed]",
      "text/plain": [
       "<Figure size 432x288 with 1 Axes>"
      ]
     },
     "metadata": {
      "needs_background": "light"
     },
     "output_type": "display_data"
    },
    {
     "data": {
      "text/plain": [
       "<matplotlib.axes._subplots.AxesSubplot at 0x227d23566c8>"
      ]
     },
     "execution_count": 80,
     "metadata": {},
     "output_type": "execute_result"
    }
   ],
   "source": [
    "frquency_dist.plot(10)"
   ]
  },
  {
   "cell_type": "code",
   "execution_count": 81,
   "metadata": {},
   "outputs": [],
   "source": [
    "from nltk.corpus import stopwords\n",
    "stopwords = stopwords.words(\"english\") # stopwords ------------> choosing language"
   ]
  },
  {
   "cell_type": "code",
   "execution_count": 82,
   "metadata": {},
   "outputs": [
    {
     "name": "stdout",
     "output_type": "stream",
     "text": [
      "194\n"
     ]
    }
   ],
   "source": [
    "print(len(words))"
   ]
  },
  {
   "cell_type": "code",
   "execution_count": 83,
   "metadata": {},
   "outputs": [],
   "source": [
    "clean_words = []\n",
    "for i in words_punc:\n",
    "    if i not in stopwords:\n",
    "        clean_words.append(i)  #video ----> 1:43:10"
   ]
  },
  {
   "cell_type": "code",
   "execution_count": 86,
   "metadata": {},
   "outputs": [
    {
     "data": {
      "text/plain": [
       "[('data', 6),\n",
       " ('learning', 4),\n",
       " ('use', 3),\n",
       " ('linear', 3),\n",
       " ('function', 3),\n",
       " ('hypothesis', 3),\n",
       " ('class', 3),\n",
       " ('supervised', 2),\n",
       " ('spam', 2),\n",
       " ('using', 2),\n",
       " ('output', 2),\n",
       " ('accuracy', 2),\n",
       " ('train', 2),\n",
       " ('time', 2),\n",
       " ('two', 1),\n",
       " ('chapters', 1),\n",
       " ('discussed', 1),\n",
       " ('models', 1),\n",
       " ('field', 1),\n",
       " ('deep', 1),\n",
       " ('labeled', 1),\n",
       " ('classify', 1),\n",
       " ('dataset', 1),\n",
       " ('example', 1),\n",
       " ('detect', 1),\n",
       " ('email', 1),\n",
       " ('techniques', 1),\n",
       " ('create', 1),\n",
       " ('input', 1),\n",
       " ('decision', 1),\n",
       " ('tree', 1),\n",
       " ('variables', 1),\n",
       " ('based', 1),\n",
       " ('determined', 1),\n",
       " ('type', 1),\n",
       " ('represented', 1),\n",
       " ('learner', 1),\n",
       " ('restricted', 1),\n",
       " ('since', 1),\n",
       " ('limited', 1),\n",
       " ('relations', 1),\n",
       " ('overcome', 1),\n",
       " ('restriction', 1),\n",
       " ('neural', 1),\n",
       " ('networks', 1),\n",
       " ('hidden', 1),\n",
       " ('layers', 1),\n",
       " ('strong', 1),\n",
       " ('measure', 1),\n",
       " ('model', 1),\n",
       " ('need', 1),\n",
       " ('compare', 1),\n",
       " ('label', 1),\n",
       " ('get', 1),\n",
       " ('better', 1),\n",
       " ('every', 1),\n",
       " ('single', 1),\n",
       " ('evaluating', 1),\n",
       " ('resulting', 1),\n",
       " ('process', 1),\n",
       " ('costly', 1),\n",
       " ('terms', 1),\n",
       " ('computation', 1),\n",
       " ('method', 1),\n",
       " ('items', 1),\n",
       " ('less', 1)]"
      ]
     },
     "execution_count": 86,
     "metadata": {},
     "output_type": "execute_result"
    }
   ],
   "source": [
    "frquency_dist = FreqDist(clean_words)\n",
    "frquency_dist.most_common(100)"
   ]
  },
  {
   "cell_type": "code",
   "execution_count": 87,
   "metadata": {},
   "outputs": [],
   "source": [
    "from wordcloud import WordCloud"
   ]
  },
  {
   "cell_type": "code",
   "execution_count": 88,
   "metadata": {},
   "outputs": [],
   "source": [
    "wordcloud=WordCloud().generate(text)"
   ]
  },
  {
   "cell_type": "code",
   "execution_count": 89,
   "metadata": {},
   "outputs": [
    {
     "data": {
      "image/png": "[encoded data removed]",
      "text/plain": [
       "<Figure size 864x864 with 1 Axes>"
      ]
     },
     "metadata": {
      "needs_background": "light"
     },
     "output_type": "display_data"
    }
   ],
   "source": [
    "plt.figure(figsize=(12, 12))\n",
    "plt.imshow(wordcloud)\n",
    "plt.show()"
   ]
  },
  {
   "cell_type": "code",
   "execution_count": 90,
   "metadata": {},
   "outputs": [],
   "source": [
    "# Steamming\n",
    "from nltk.stem import PorterStemmer"
   ]
  },
  {
   "cell_type": "code",
   "execution_count": 91,
   "metadata": {},
   "outputs": [],
   "source": [
    "stemmer = PorterStemmer()"
   ]
  },
  {
   "cell_type": "code",
   "execution_count": 120,
   "metadata": {},
   "outputs": [],
   "source": [
    "word_list = [\"Prepare\", \"Prepation\", \"Preparing\", \"Prepaid\"]"
   ]
  },
  {
   "cell_type": "code",
   "execution_count": 121,
   "metadata": {},
   "outputs": [
    {
     "name": "stdout",
     "output_type": "stream",
     "text": [
      "prepar\n",
      "prepat\n",
      "prepar\n",
      "prepaid\n"
     ]
    }
   ],
   "source": [
    "for i in word_list:\n",
    "    print(stemmer.stem(i)) #took root words"
   ]
  },
  {
   "cell_type": "code",
   "execution_count": 122,
   "metadata": {},
   "outputs": [],
   "source": [
    "word_listt = [\"Study\", \"Studying\", \"Studies\", \"Studied\"]"
   ]
  },
  {
   "cell_type": "code",
   "execution_count": 125,
   "metadata": {},
   "outputs": [
    {
     "name": "stdout",
     "output_type": "stream",
     "text": [
      "studi\n",
      "studi\n",
      "studi\n",
      "studi\n"
     ]
    }
   ],
   "source": [
    "for i in word_listt: #language ullekh korte hoy na\n",
    "    print(stemmer.stem(i)) #took root words"
   ]
  },
  {
   "cell_type": "code",
   "execution_count": 126,
   "metadata": {},
   "outputs": [],
   "source": [
    "from nltk.stem import SnowballStemmer"
   ]
  },
  {
   "cell_type": "code",
   "execution_count": 127,
   "metadata": {},
   "outputs": [],
   "source": [
    "snow = SnowballStemmer('english') #language ullekh korte hoy"
   ]
  },
  {
   "cell_type": "code",
   "execution_count": 128,
   "metadata": {},
   "outputs": [
    {
     "name": "stdout",
     "output_type": "stream",
     "text": [
      "studi\n",
      "studi\n",
      "studi\n",
      "studi\n"
     ]
    }
   ],
   "source": [
    "for i in word_listt:\n",
    "    print(stemmer.stem(i))"
   ]
  },
  {
   "cell_type": "code",
   "execution_count": 130,
   "metadata": {},
   "outputs": [
    {
     "name": "stdout",
     "output_type": "stream",
     "text": [
      "prepar\n",
      "prepat\n",
      "prepar\n",
      "prepaid\n"
     ]
    }
   ],
   "source": [
    "for k in word_list:\n",
    "    print(stemmer.stem(k))"
   ]
  },
  {
   "cell_type": "code",
   "execution_count": 112,
   "metadata": {},
   "outputs": [],
   "source": [
    "#Pos tag\n",
    "tagging = nltk.pos_tag([\"Study\", \"Studying\"])"
   ]
  },
  {
   "cell_type": "code",
   "execution_count": 113,
   "metadata": {},
   "outputs": [
    {
     "name": "stdout",
     "output_type": "stream",
     "text": [
      "[('Study', 'NNP'), ('Studying', 'VBG')]\n"
     ]
    }
   ],
   "source": [
    "print(tagging) #parts of speech"
   ]
  },
  {
   "cell_type": "code",
   "execution_count": 131,
   "metadata": {},
   "outputs": [],
   "source": [
    "#Pos tag\n",
    "taggings = nltk.pos_tag([\"prepar\", \"prepaid\"])"
   ]
  },
  {
   "cell_type": "code",
   "execution_count": 132,
   "metadata": {},
   "outputs": [
    {
     "name": "stdout",
     "output_type": "stream",
     "text": [
      "[('prepar', 'NN'), ('prepaid', 'NN')]\n"
     ]
    }
   ],
   "source": [
    "print(taggings) #parts of speech"
   ]
  },
  {
   "cell_type": "code",
   "execution_count": 115,
   "metadata": {},
   "outputs": [
    {
     "name": "stdout",
     "output_type": "stream",
     "text": [
      "Help on function pos_tag in module nltk.tag:\n",
      "\n",
      "pos_tag(tokens, tagset=None, lang='eng')\n",
      "    Use NLTK's currently recommended part of speech tagger to\n",
      "    tag the given list of tokens.\n",
      "    \n",
      "        >>> from nltk.tag import pos_tag\n",
      "        >>> from nltk.tokenize import word_tokenize\n",
      "        >>> pos_tag(word_tokenize(\"John's big idea isn't all that bad.\"))\n",
      "        [('John', 'NNP'), (\"'s\", 'POS'), ('big', 'JJ'), ('idea', 'NN'), ('is', 'VBZ'),\n",
      "        (\"n't\", 'RB'), ('all', 'PDT'), ('that', 'DT'), ('bad', 'JJ'), ('.', '.')]\n",
      "        >>> pos_tag(word_tokenize(\"John's big idea isn't all that bad.\"), tagset='universal')\n",
      "        [('John', 'NOUN'), (\"'s\", 'PRT'), ('big', 'ADJ'), ('idea', 'NOUN'), ('is', 'VERB'),\n",
      "        (\"n't\", 'ADV'), ('all', 'DET'), ('that', 'DET'), ('bad', 'ADJ'), ('.', '.')]\n",
      "    \n",
      "    NB. Use `pos_tag_sents()` for efficient tagging of more than one sentence.\n",
      "    \n",
      "    :param tokens: Sequence of tokens to be tagged\n",
      "    :type tokens: list(str)\n",
      "    :param tagset: the tagset to be used, e.g. universal, wsj, brown\n",
      "    :type tagset: str\n",
      "    :param lang: the ISO 639 code of the language, e.g. 'eng' for English, 'rus' for Russian\n",
      "    :type lang: str\n",
      "    :return: The tagged tokens\n",
      "    :rtype: list(tuple(str, str))\n",
      "\n",
      "None\n"
     ]
    }
   ],
   "source": [
    "print(help(nltk.pos_tag))"
   ]
  },
  {
   "cell_type": "code",
   "execution_count": 117,
   "metadata": {},
   "outputs": [],
   "source": [
    "from nltk.stem import WordNetLemmatizer"
   ]
  },
  {
   "cell_type": "code",
   "execution_count": 118,
   "metadata": {},
   "outputs": [],
   "source": [
    "lam = WordNetLemmatizer() #rootword using suffiex,prefiex"
   ]
  },
  {
   "cell_type": "code",
   "execution_count": 134,
   "metadata": {},
   "outputs": [
    {
     "name": "stdout",
     "output_type": "stream",
     "text": [
      "Studying\n",
      "Studying\n",
      "Studying\n",
      "Studying\n"
     ]
    }
   ],
   "source": [
    "print(lam.lemmatize(\"Studying\", pos= \"v\"))\n",
    "print(lam.lemmatize(\"Studying\", pos= \"a\"))\n",
    "print(lam.lemmatize(\"Studying\", pos= \"n\"))\n",
    "print(lam.lemmatize(\"Studying\", pos= \"r\"))"
   ]
  },
  {
   "cell_type": "code",
   "execution_count": null,
   "metadata": {},
   "outputs": [],
   "source": []
  }
 ],
 "metadata": {
  "kernelspec": {
   "display_name": "Python 3",
   "language": "python",
   "name": "python3"
  },
  "language_info": {
   "codemirror_mode": {
    "name": "ipython",
    "version": 3
   },
   "file_extension": ".py",
   "mimetype": "text/x-python",
   "name": "python",
   "nbconvert_exporter": "python",
   "pygments_lexer": "ipython3",
   "version": "3.7.6"
  }
 },
 "nbformat": 4,
 "nbformat_minor": 4
}
